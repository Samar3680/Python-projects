{
 "cells": [
  {
   "cell_type": "code",
   "execution_count": 1,
   "id": "3278c634-2849-434c-977f-eb0cbc030b3f",
   "metadata": {},
   "outputs": [
    {
     "name": "stdout",
     "output_type": "stream",
     "text": [
      "Welcome to the calculator program!\n",
      "Please select an operation:\n",
      "1. Add\n",
      "2. Subtract\n",
      "3. Multiply\n",
      "4. Divide\n"
     ]
    },
    {
     "name": "stdin",
     "output_type": "stream",
     "text": [
      "Enter your choice (1-4):  1\n",
      "Enter the first number:  1\n",
      "Enter the second number:  2\n"
     ]
    },
    {
     "name": "stdout",
     "output_type": "stream",
     "text": [
      "The sum is: 3.0\n"
     ]
    }
   ],
   "source": [
    "# A simple calculator program\n",
    "\n",
    "def add(a, b):\n",
    "    return a + b\n",
    "\n",
    "def subtract(a, b):\n",
    "    return a - b\n",
    "\n",
    "def multiply(a, b):\n",
    "    return a * b\n",
    "\n",
    "def divide(a, b):\n",
    "    return a / b\n",
    "\n",
    "print(\"Welcome to the calculator program!\")\n",
    "print(\"Please select an operation:\")\n",
    "print(\"1. Add\")\n",
    "print(\"2. Subtract\")\n",
    "print(\"3. Multiply\")\n",
    "print(\"4. Divide\")\n",
    "\n",
    "choice = int(input(\"Enter your choice (1-4): \"))\n",
    "\n",
    "num1 = float(input(\"Enter the first number: \"))\n",
    "num2 = float(input(\"Enter the second number: \"))\n",
    "\n",
    "if choice == 1:\n",
    "    result = add(num1, num2)\n",
    "    print(\"The sum is:\", result)\n",
    "elif choice == 2:\n",
    "    result = subtract(num1, num2)\n",
    "    print(\"The difference is:\", result)\n",
    "elif choice == 3:\n",
    "    result = multiply(num1, num2)\n",
    "    print(\"The product is:\", result)\n",
    "elif choice == 4:\n",
    "    result = divide(num1, num2)\n",
    "    print(\"The quotient is:\", result)\n",
    "else:\n",
    "    print(\"Invalid choice\")\n"
   ]
  },
  {
   "cell_type": "code",
   "execution_count": null,
   "id": "17b5bd07-d2df-4144-908b-32d6846e6b0f",
   "metadata": {},
   "outputs": [],
   "source": []
  }
 ],
 "metadata": {
  "kernelspec": {
   "display_name": "Python 3 (ipykernel)",
   "language": "python",
   "name": "python3"
  },
  "language_info": {
   "codemirror_mode": {
    "name": "ipython",
    "version": 3
   },
   "file_extension": ".py",
   "mimetype": "text/x-python",
   "name": "python",
   "nbconvert_exporter": "python",
   "pygments_lexer": "ipython3",
   "version": "3.9.13"
  }
 },
 "nbformat": 4,
 "nbformat_minor": 5
}
